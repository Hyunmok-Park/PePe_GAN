{
 "cells": [
  {
   "cell_type": "code",
   "execution_count": 2,
   "id": "96dddc09",
   "metadata": {},
   "outputs": [],
   "source": [
    "import numpy as np\n",
    "import torchvision.datasets as dset\n",
    "import torchvision.transforms as transforms\n",
    "from torch.utils.data import DataLoader\n",
    "from glob import glob"
   ]
  },
  {
   "cell_type": "code",
   "execution_count": 47,
   "id": "9c3bc123",
   "metadata": {},
   "outputs": [
    {
     "name": "stdout",
     "output_type": "stream",
     "text": [
      "torch.Size([1, 3, 128, 128]) tensor([0])\n",
      "torch.Size([1, 3, 128, 128]) tensor([0])\n",
      "torch.Size([1, 3, 128, 128]) tensor([0])\n",
      "torch.Size([1, 3, 128, 128]) tensor([0])\n",
      "torch.Size([1, 3, 128, 128]) tensor([0])\n",
      "torch.Size([1, 3, 128, 128]) tensor([0])\n",
      "torch.Size([1, 3, 128, 128]) tensor([0])\n",
      "torch.Size([1, 3, 128, 128]) tensor([0])\n",
      "torch.Size([1, 3, 128, 128]) tensor([0])\n"
     ]
    }
   ],
   "source": [
    "dataset = dset.ImageFolder(root=\"dataset/\",\n",
    "                           transform=transforms.Compose([\n",
    "                               transforms.Resize(128),       # 한 축을 128로 조절하고\n",
    "                               transforms.CenterCrop(128),  # square를 한 후,\n",
    "                               transforms.ToTensor(),       # Tensor로 바꾸고 (0~1로 자동으로 normalize)\n",
    "                               transforms.Normalize(0, 1), # (c - m)/s 니까...\n",
    "                           ]))\n",
    "\n",
    "data_loader = DataLoader(dataset=dataset, batch_size = 1)\n",
    "for batch, label in data_loader:\n",
    "    print(batch.size(), label)"
   ]
  },
  {
   "cell_type": "code",
   "execution_count": null,
   "id": "8125a722",
   "metadata": {},
   "outputs": [],
   "source": []
  }
 ],
 "metadata": {
  "kernelspec": {
   "display_name": "Python 3",
   "language": "python",
   "name": "python3"
  },
  "language_info": {
   "codemirror_mode": {
    "name": "ipython",
    "version": 3
   },
   "file_extension": ".py",
   "mimetype": "text/x-python",
   "name": "python",
   "nbconvert_exporter": "python",
   "pygments_lexer": "ipython3",
   "version": "3.6.13"
  }
 },
 "nbformat": 4,
 "nbformat_minor": 5
}
